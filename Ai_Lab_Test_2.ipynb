{
  "nbformat": 4,
  "nbformat_minor": 0,
  "metadata": {
    "colab": {
      "provenance": [],
      "authorship_tag": "ABX9TyMrqxAL1mAcY890na2KHyHO",
      "include_colab_link": true
    },
    "kernelspec": {
      "name": "python3",
      "display_name": "Python 3"
    },
    "language_info": {
      "name": "python"
    }
  },
  "cells": [
    {
      "cell_type": "markdown",
      "metadata": {
        "id": "view-in-github",
        "colab_type": "text"
      },
      "source": [
        "<a href=\"https://colab.research.google.com/github/AYANSHVERMA05/Ai-Lab-Test----2/blob/main/Ai_Lab_Test_2.ipynb\" target=\"_parent\"><img src=\"https://colab.research.google.com/assets/colab-badge.svg\" alt=\"Open In Colab\"/></a>"
      ]
    },
    {
      "cell_type": "code",
      "execution_count": 1,
      "metadata": {
        "colab": {
          "base_uri": "https://localhost:8080/"
        },
        "id": "YLs5sipxkp4d",
        "outputId": "674ff942-d552-4981-d7b3-42baaa64b4b4"
      },
      "outputs": [
        {
          "output_type": "stream",
          "name": "stdout",
          "text": [
            "[True, False]\n"
          ]
        }
      ],
      "source": [
        "def is_point_in_polygon(poly, pts):\n",
        "    \"\"\"\n",
        "    Checks if a point is inside a polygon using the ray casting algorithm.\n",
        "\n",
        "    Args:\n",
        "        poly: A list of tuples representing the polygon vertices [(x1, y1), (x2, y2), ...].\n",
        "        pts: A list of tuples representing the points to check [(px1, py1), (px2, py2), ...].\n",
        "\n",
        "    Returns:\n",
        "        A list of booleans indicating whether each point is inside the polygon.\n",
        "    \"\"\"\n",
        "    results = []\n",
        "    n = len(poly)\n",
        "    for px, py in pts:\n",
        "        inside = False\n",
        "        p1x, p1y = poly[0]\n",
        "        for i in range(n + 1):\n",
        "            p2x, p2y = poly[i % n]\n",
        "            if py > min(p1y, p2y):\n",
        "                if py <= max(p1y, p2y):\n",
        "                    if px <= max(p1x, p2x):\n",
        "                        if p1y != p2y:\n",
        "                            xinters = (py - p1y) * (p2x - p1x) / (p2y - p1y) + p1x\n",
        "                        if p1x == p2x or px <= xinters:\n",
        "                            inside = not inside\n",
        "            p1x, p1y = p2x, p2y\n",
        "        results.append(inside)\n",
        "    return results\n",
        "\n",
        "# Sample Input\n",
        "poly = [(0, 0), (4, 0), (4, 4), (0, 4)]\n",
        "pts = [(2, 2), (5, 5)]\n",
        "\n",
        "# Get Sample Output\n",
        "output = is_point_in_polygon(poly, pts)\n",
        "print(output)"
      ]
    },
    {
      "cell_type": "code",
      "source": [
        "def rolling_median(data, window_size):\n",
        "    \"\"\"\n",
        "    Computes the rolling median of a list with a given window size.\n",
        "\n",
        "    Args:\n",
        "        data: A list of numbers.\n",
        "        window_size: The size of the sliding window.\n",
        "\n",
        "    Returns:\n",
        "        A list of rolling medians.\n",
        "    \"\"\"\n",
        "    results = []\n",
        "    for i in range(len(data) - window_size + 1):\n",
        "        window = sorted(data[i:i + window_size])\n",
        "        median = window[window_size // 2]\n",
        "        results.append(median)\n",
        "    return results\n",
        "\n",
        "# Sample Input\n",
        "data = [1, 3, 2, 5, 4]\n",
        "window_size = 3\n",
        "\n",
        "# Get Sample Output\n",
        "output = rolling_median(data, window_size)\n",
        "print(output)\n",
        "\n",
        "# Small edge tests\n",
        "print(rolling_median([1, 2, 3, 4, 5], 3))\n",
        "print(rolling_median([5, 4, 3, 2, 1], 3))"
      ],
      "metadata": {
        "colab": {
          "base_uri": "https://localhost:8080/"
        },
        "id": "U6u9CG2zsQyw",
        "outputId": "a6da0e24-8aa8-420a-cdf4-c6323392f5ae"
      },
      "execution_count": 2,
      "outputs": [
        {
          "output_type": "stream",
          "name": "stdout",
          "text": [
            "[2, 3, 4]\n",
            "[2, 3, 4]\n",
            "[4, 3, 2]\n"
          ]
        }
      ]
    }
  ]
}